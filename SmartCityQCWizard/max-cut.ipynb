{
 "cells": [
  {
   "cell_type": "code",
   "execution_count": 1,
   "id": "bab05d80-1312-4385-8756-bebce5ce538e",
   "metadata": {},
   "outputs": [],
   "source": [
    "import numpy as np\n",
    "from qibo.symbols import Z, X\n",
    "from qibo.hamiltonians import SymbolicHamiltonian\n",
    "from qibo import models, Circuit, gates\n",
    "import networkx as nx\n",
    "\n",
    "def H(distance_matrix):\n",
    "    num_cities = distance_matrix.shape[0]\n",
    "    form = 0\n",
    "    for u in range(num_cities):\n",
    "        for v in range(u+1, num_cities):\n",
    "            form += 1 - distance_matrix[u, v]*Z(u)*Z(v)\n",
    "    ham = SymbolicHamiltonian(0.5*form)\n",
    "    return ham\n",
    "\n",
    "\n",
    "def mixer(l):\n",
    "    form = sum(X(i) for i in range(l))\n",
    "    return SymbolicHamiltonian(form)\n",
    "    \n",
    "    \n",
    "def construct_graph(edges):\n",
    "    \"\"\"\n",
    "    Construct graph and adjacency matrix given edges list.\n",
    "    \n",
    "    Args: \n",
    "        edges: edges.\n",
    "    \n",
    "    Return:\n",
    "        graph, adjacency matrix.\n",
    "    \"\"\"\n",
    "    # Create a graph based on the specified topology\n",
    "    G = nx.Graph()\n",
    "\n",
    "    G.add_edges_from(edges)\n",
    "\n",
    "    num_nodes = G.number_of_nodes()\n",
    "    num_edges = len(G.edges)\n",
    "\n",
    "    weights = np.random.uniform(0, 20, num_edges)\n",
    "\n",
    "    # Initialize adjacency matrix with high weights\n",
    "    high_weight = 0\n",
    "    adjacency_matrix = np.full((num_nodes, num_nodes), high_weight)\n",
    "\n",
    "    # Populate the adjacency matrix with weights from the external list\n",
    "    for idx, (i, j) in enumerate(G.edges()):\n",
    "        adjacency_matrix[i-1, j-1] = weights[idx]  # Use weights from the external list\n",
    "        adjacency_matrix[j-1, i-1] = weights[idx]  # Undirected graph: set both (i,j) and (j,i)\n",
    "\n",
    "    # Optionally set the diagonal to 0 (self-loops with zero weight)\n",
    "    np.fill_diagonal(adjacency_matrix, 0)\n",
    "\n",
    "    return G, adjacency_matrix"
   ]
  },
  {
   "cell_type": "code",
   "execution_count": 2,
   "id": "efea60a9-7406-4474-ae0a-065381e382df",
   "metadata": {},
   "outputs": [],
   "source": [
    "edges = [\n",
    "    # (0, 1), (0, 2), (0, 3), (0, 6), (0, 8), (0, 10), (0, 11), (0, 12),\n",
    "    (1, 2), (1, 4), # (1, 7), (1, 9), (1, 10),\n",
    "    (2, 3), (2, 4),\n",
    "    (3, 4),\n",
    "    # (4, 5), (4, 7),\n",
    "    # (5, 6), (5, 7),\n",
    "    # (6, 8), (6, 7),\n",
    "    # (7, 8), (7, 9),\n",
    "    # (8, 9), (8, 10),\n",
    "    # (9, 10),\n",
    "    # (10, 11),\n",
    "    # (11, 12)\n",
    "]\n",
    "G, matrix = construct_graph(edges)"
   ]
  },
  {
   "cell_type": "code",
   "execution_count": 3,
   "id": "42d7c317-7412-4796-808e-ccdb0d801b58",
   "metadata": {},
   "outputs": [
    {
     "name": "stderr",
     "output_type": "stream",
     "text": [
      "[Qibo 0.2.11|INFO|2024-10-24 18:49:00]: Using qibojit (numba) backend on /CPU:0\n"
     ]
    }
   ],
   "source": [
    "# matrix = np.array([[0, 0.1, 1], [2, 0, 0.2],[0.3, 3, 0]])\n",
    "num_cities = 4\n",
    "qaoa = models.QAOA(H(matrix), mixer=mixer(num_cities))\n",
    "\n",
    "circuit = Circuit(num_cities)\n",
    "circuit.add(gates.H(i) for i in range(num_cities))\n",
    "initial_state = circuit().state()"
   ]
  },
  {
   "cell_type": "code",
   "execution_count": 7,
   "id": "a0d06523-38c7-4ced-b199-7a5ff74717c5",
   "metadata": {},
   "outputs": [],
   "source": [
    "nlayers = 4\n",
    "best_energy, final_parameters, extra = qaoa.minimize(0.1 * np.random.random(2*nlayers),initial_state=initial_state)"
   ]
  },
  {
   "cell_type": "code",
   "execution_count": 8,
   "id": "38db250c-c5b0-4436-ad34-75d0aa4e2b3a",
   "metadata": {},
   "outputs": [
    {
     "data": {
      "text/plain": [
       "-16.43370729617633"
      ]
     },
     "execution_count": 8,
     "metadata": {},
     "output_type": "execute_result"
    }
   ],
   "source": [
    "best_energy"
   ]
  },
  {
   "cell_type": "code",
   "execution_count": 10,
   "id": "69e0714a-aa06-4cee-bff0-f9eaac88c5a2",
   "metadata": {},
   "outputs": [
    {
     "name": "stderr",
     "output_type": "stream",
     "text": [
      "[Qibo 0.2.11|WARNING|2024-10-24 18:51:34]: Calculating the dense form of a symbolic Hamiltonian. This operation is memory inefficient.\n"
     ]
    },
    {
     "data": {
      "text/plain": [
       "array([-19., -19.,  -5.,  -5.,  -1.,  -1.,   2.,   2.,   5.,   5.,   6.,\n",
       "         6.,  16.,  16.,  20.,  20.])"
      ]
     },
     "execution_count": 10,
     "metadata": {},
     "output_type": "execute_result"
    }
   ],
   "source": [
    "H(matrix).eigenvalues()"
   ]
  },
  {
   "cell_type": "code",
   "execution_count": 11,
   "id": "493bbb61-1ad6-4b0d-8ec2-4988f117bde7",
   "metadata": {},
   "outputs": [],
   "source": [
    "circuit = Circuit(num_cities)\n",
    "circuit.add(gates.M(i) for i in range(num_cities))\n",
    "freqs = circuit(initial_state = qaoa.execute(), nshots=10000).frequencies()"
   ]
  },
  {
   "cell_type": "code",
   "execution_count": 12,
   "id": "175f8639-4fb0-413c-9922-81647dfcb2f1",
   "metadata": {},
   "outputs": [
    {
     "data": {
      "text/plain": [
       "Counter({'0000': 4344,\n",
       "         '1111': 4284,\n",
       "         '1011': 320,\n",
       "         '0100': 278,\n",
       "         '1000': 156,\n",
       "         '0010': 151,\n",
       "         '1101': 149,\n",
       "         '0111': 145,\n",
       "         '0011': 45,\n",
       "         '1100': 44,\n",
       "         '0101': 23,\n",
       "         '0110': 22,\n",
       "         '1010': 22,\n",
       "         '1001': 16,\n",
       "         '0001': 1})"
      ]
     },
     "execution_count": 12,
     "metadata": {},
     "output_type": "execute_result"
    }
   ],
   "source": [
    "freqs"
   ]
  },
  {
   "cell_type": "code",
   "execution_count": null,
   "id": "b34665cd-ef36-49b3-9a8a-3cbf2d8c2419",
   "metadata": {},
   "outputs": [],
   "source": []
  }
 ],
 "metadata": {
  "kernelspec": {
   "display_name": "Python 3 (ipykernel)",
   "language": "python",
   "name": "python3"
  },
  "language_info": {
   "codemirror_mode": {
    "name": "ipython",
    "version": 3
   },
   "file_extension": ".py",
   "mimetype": "text/x-python",
   "name": "python",
   "nbconvert_exporter": "python",
   "pygments_lexer": "ipython3",
   "version": "3.12.6"
  }
 },
 "nbformat": 4,
 "nbformat_minor": 5
}
