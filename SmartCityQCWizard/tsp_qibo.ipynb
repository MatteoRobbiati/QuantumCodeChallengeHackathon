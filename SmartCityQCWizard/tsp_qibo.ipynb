{
 "cells": [
  {
   "cell_type": "code",
   "execution_count": 1,
   "id": "f8e5e535-b0fa-4fd0-8cfc-bef6bc227f43",
   "metadata": {},
   "outputs": [
    {
     "name": "stderr",
     "output_type": "stream",
     "text": [
      "[Qibo 0.2.11|INFO|2024-10-24 11:47:20]: Using qibojit (numba) backend on /CPU:0\n"
     ]
    }
   ],
   "source": [
    "import numpy as np\n",
    "from qibo import models, set_backend, gates\n",
    "from qibo.symbols import X,Y,Z\n",
    "from qibo.hamiltonians import SymbolicHamiltonian\n",
    "set_backend(\"qibojit\")\n",
    "\n",
    "two_to_one = lambda u,v: int(u+num_cities*v)\n",
    "\n",
    "def tsp_phaser(distance_matrix):\n",
    "    num_cities = distance_matrix.shape[0]\n",
    "    form = 0\n",
    "    for u in range(num_cities):\n",
    "        for v in range(num_cities):\n",
    "            form += distance_matrix[u, v]* np.sum([Z(two_to_one(u, i))*Z(two_to_one(v,(i + 1)%num_cities)) for i in range(num_cities)])\n",
    "    ham = SymbolicHamiltonian(form)\n",
    "    return ham\n",
    "\n",
    "\n",
    "def tsp_mixer(num_cities, ):\n",
    "    splus = lambda u, i: X(two_to_one(u, i)) + 1j * Y(two_to_one(u, i))\n",
    "    sminus = lambda u, i: X(two_to_one(u, i)) - 1j * Y(two_to_one(u, i))\n",
    "    form = 0\n",
    "    for i in range(num_cities):\n",
    "        for u in range(num_cities):\n",
    "            for v in range(num_cities):\n",
    "                    form += splus(u, i) * splus(v, (i + 1) % num_cities) * sminus(u, (i + 1) % num_cities\n",
    "                    ) * sminus(v, i) + sminus(u, i) * sminus(\n",
    "                        v, (i + 1) % num_cities\n",
    "                    ) * splus(\n",
    "                        u, (i + 1) % num_cities\n",
    "                    ) * splus(\n",
    "                        v, i\n",
    "                    )\n",
    "    ham = SymbolicHamiltonian(form.expand())\n",
    "    return ham\n",
    "\n",
    "def prepare_initial_state(ordering):\n",
    "        \"\"\"\n",
    "        To run QAOA by Hadsfield, we need to start from a valid permutation function to ensure feasibility.\n",
    "\n",
    "        Args:\n",
    "            ordering (array): A list describing permutation from 0 to n-1\n",
    "\n",
    "        Returns:\n",
    "            An initial state that is used to start TSP QAOA.\n",
    "\n",
    "        \"\"\"\n",
    "        c = models.Circuit(len(ordering) ** 2)\n",
    "        for i in range(len(ordering)):\n",
    "            c.add(gates.X(two_to_one(ordering[i], i)))\n",
    "        return c().state()"
   ]
  },
  {
   "cell_type": "code",
   "execution_count": 10,
   "id": "23f14028-d184-43ac-ad9a-58ba8d9b5273",
   "metadata": {},
   "outputs": [],
   "source": [
    "distance_matrix = np.array([[0, 0.1, 1], [2, 0, 0.2],[0.3, 3, 0]])\n",
    "num_cities = distance_matrix.shape[0]\n",
    "nlayers = 2\n",
    "initial_state = prepare_initial_state([0,2,1])\n",
    "qaoa = models.QAOA(tsp_phaser(distance_matrix), mixer=tsp_mixer(num_cities))\n",
    "best_energy, final_parameters, extra = qaoa.minimize(0.1 * np.random.random(2*nlayers),initial_state=initial_state)"
   ]
  },
  {
   "cell_type": "code",
   "execution_count": 11,
   "id": "4fd7970e-be8c-4e1d-8c81-0ae9e1c204ba",
   "metadata": {},
   "outputs": [
    {
     "data": {
      "text/plain": [
       "Counter({'100010001': 8678,\n",
       "         '010001100': 863,\n",
       "         '001100010': 457,\n",
       "         '001010100': 2})"
      ]
     },
     "execution_count": 11,
     "metadata": {},
     "output_type": "execute_result"
    }
   ],
   "source": [
    "from qibo import gates\n",
    "nqubits = int(num_cities**2)\n",
    "circuit = models.Circuit(nqubits)\n",
    "circuit.add(gates.M(*range(nqubits)))\n",
    "result = circuit(initial_state=qaoa.execute(initial_state), nshots=10000)\n",
    "freq_counter = result.frequencies()\n",
    "freq_counter"
   ]
  },
  {
   "cell_type": "code",
   "execution_count": 12,
   "id": "c175bb89-2f5d-468e-ac38-dad3e922fb18",
   "metadata": {},
   "outputs": [],
   "source": [
    "def convert_to_standard_Cauchy(config):\n",
    "    m = int(np.sqrt(len(config)))\n",
    "    cauchy = [-1] * m  # Cauchy's notation for permutation, e.g. (1,2,0) or (2,0,1)\n",
    "    for i in range(m):\n",
    "        for j in range(m):\n",
    "            if config[m * i + j] == '1':\n",
    "                cauchy[j] = i  # citi i is in slot j\n",
    "    for i in range(m):\n",
    "        if cauchy[i] == 0:\n",
    "            cauchy = cauchy[i:] + cauchy[:i]\n",
    "            return tuple(cauchy)  # now, the cauchy notation for permutation begins with 0\n",
    "    \n",
    "    \n",
    "def evaluate_dist(cauchy):\n",
    "    '''\n",
    "    Given a permutation of 0 to n-1, we compute the distance of the tour\n",
    "    \n",
    "    '''\n",
    "    m = len(cauchy)\n",
    "    return sum(distance_matrix[cauchy[i]][cauchy[(i+1)%m]] for i in range(m))"
   ]
  },
  {
   "cell_type": "code",
   "execution_count": null,
   "id": "b11a4224-3014-432d-8094-26dd5407fad5",
   "metadata": {},
   "outputs": [],
   "source": []
  }
 ],
 "metadata": {
  "kernelspec": {
   "display_name": "Python 3 (ipykernel)",
   "language": "python",
   "name": "python3"
  },
  "language_info": {
   "codemirror_mode": {
    "name": "ipython",
    "version": 3
   },
   "file_extension": ".py",
   "mimetype": "text/x-python",
   "name": "python",
   "nbconvert_exporter": "python",
   "pygments_lexer": "ipython3",
   "version": "3.12.6"
  }
 },
 "nbformat": 4,
 "nbformat_minor": 5
}
